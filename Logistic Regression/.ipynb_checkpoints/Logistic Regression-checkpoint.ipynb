{
 "cells": [
  {
   "cell_type": "code",
   "execution_count": 1,
   "metadata": {},
   "outputs": [],
   "source": [
    "import scipy.io as sio\n",
    "import numpy as np\n",
    "from numpy.linalg import inv\n",
    "from numpy import linalg\n",
    "import math\n",
    "import matplotlib.pyplot as plt"
   ]
  },
  {
   "cell_type": "code",
   "execution_count": 2,
   "metadata": {},
   "outputs": [],
   "source": [
    "content = sio.loadmat('dataset3.mat')"
   ]
  },
  {
   "cell_type": "code",
   "execution_count": 3,
   "metadata": {},
   "outputs": [],
   "source": [
    "X_train = np.array(content['X_trn'])\n",
    "Y_train = np.array(content['Y_trn'])\n",
    "X_test = content['X_tst']\n",
    "Y_test = content['Y_tst']"
   ]
  },
  {
   "cell_type": "code",
   "execution_count": 4,
   "metadata": {},
   "outputs": [],
   "source": [
    "learningRate = 0.00001\n",
    "epsilon = 10**-5"
   ]
  },
  {
   "cell_type": "code",
   "execution_count": 5,
   "metadata": {},
   "outputs": [],
   "source": [
    "def sigmoid(w,x):\n",
    "    return 1 / (1 + np.exp(-1 * np.matmul(w.transpose(),x)))"
   ]
  },
  {
   "cell_type": "code",
   "execution_count": 6,
   "metadata": {},
   "outputs": [],
   "source": [
    "w = np.random.rand(3,1)"
   ]
  },
  {
   "cell_type": "code",
   "execution_count": 7,
   "metadata": {},
   "outputs": [
    {
     "name": "stdout",
     "output_type": "stream",
     "text": [
      "(136, 3)\n"
     ]
    },
    {
     "data": {
      "text/plain": [
       "array([[ 0.14070996],\n",
       "       [ 1.24739637],\n",
       "       [-0.55850187]])"
      ]
     },
     "execution_count": 7,
     "metadata": {},
     "output_type": "execute_result"
    }
   ],
   "source": [
    "X_tr = np.column_stack((np.ones(X_train.shape[0]), X_train))\n",
    "print(X_tr.shape)\n",
    "\n",
    "\n",
    "for j in range(3000):\n",
    "    gradient = 0\n",
    "    for i in range(0, X_tr.shape[0]):\n",
    "        sig = np.subtract(Y_train[i], sigmoid(w,X_tr[i]))\n",
    "        gradient += np.multiply(X_tr[i], sig)\n",
    "    gradient = gradient.reshape(3,1)\n",
    "    inter = np.multiply(learningRate, gradient)\n",
    "    new_w = w + inter\n",
    "    if(linalg.norm(np.subtract(new_w,w),1)<=epsilon):\n",
    "        print(j)\n",
    "        print(\"converged\")\n",
    "        print(new_w)\n",
    "        w = new_w\n",
    "        break\n",
    "    w = new_w\n",
    "new_w"
   ]
  },
  {
   "cell_type": "code",
   "execution_count": 11,
   "metadata": {},
   "outputs": [],
   "source": [
    "X_tst = np.column_stack((np.ones(X_test.shape[0]), X_test))"
   ]
  },
  {
   "cell_type": "code",
   "execution_count": 12,
   "metadata": {},
   "outputs": [],
   "source": [
    "y = []\n",
    "for i in range(0, X_tst.shape[0]):\n",
    "    y.append((sigmoid(new_w, X_tst[i])>0.5)[0])\n",
    "\n",
    "    "
   ]
  },
  {
   "cell_type": "code",
   "execution_count": 13,
   "metadata": {},
   "outputs": [
    {
     "data": {
      "image/png": "[encoded data removed]",
      "text/plain": [
       "<Figure size 432x288 with 1 Axes>"
      ]
     },
     "metadata": {
      "needs_background": "light"
     },
     "output_type": "display_data"
    }
   ],
   "source": [
    "fig, ax = plt.subplots()\n",
    "ax.scatter(X_tst[:,1],X_tst[:,2],c=y)\n",
    "x_vals = np.array(ax.get_xlim())\n",
    "y_vals = -(x_vals *w[1] +w[0])/w[2]\n",
    "plt.plot(x_vals, y_vals, '--', c=\"red\")\n",
    "plt.show()"
   ]
  },
  {
   "cell_type": "code",
   "execution_count": 16,
   "metadata": {},
   "outputs": [],
   "source": [
    "fig.savefig('myplot1.png')"
   ]
  },
  {
   "cell_type": "code",
   "execution_count": 17,
   "metadata": {},
   "outputs": [
    {
     "data": {
      "text/plain": [
       "<matplotlib.collections.PathCollection at 0x124e87c50>"
      ]
     },
     "execution_count": 17,
     "metadata": {},
     "output_type": "execute_result"
    },
    {
     "data": {
      "image/png": "[encoded data removed]",
      "text/plain": [
       "<Figure size 432x288 with 1 Axes>"
      ]
     },
     "metadata": {
      "needs_background": "light"
     },
     "output_type": "display_data"
    }
   ],
   "source": [
    "plt.scatter(X_tst[:,1],X_tst[:,2],c=Y_test.flatten())"
   ]
  }
 ],
 "metadata": {
  "kernelspec": {
   "display_name": "Python 3",
   "language": "python",
   "name": "python3"
  },
  "language_info": {
   "codemirror_mode": {
    "name": "ipython",
    "version": 3
   },
   "file_extension": ".py",
   "mimetype": "text/x-python",
   "name": "python",
   "nbconvert_exporter": "python",
   "pygments_lexer": "ipython3",
   "version": "3.7.1"
  }
 },
 "nbformat": 4,
 "nbformat_minor": 2
}
