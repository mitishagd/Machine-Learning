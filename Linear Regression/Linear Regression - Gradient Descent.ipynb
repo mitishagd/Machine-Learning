{
 "cells": [
  {
   "cell_type": "code",
   "execution_count": 1,
   "metadata": {},
   "outputs": [],
   "source": [
    "import scipy.io as sio\n",
    "import numpy as np\n",
    "from numpy import linalg\n",
    "from numpy.linalg import inv"
   ]
  },
  {
   "cell_type": "code",
   "execution_count": 2,
   "metadata": {},
   "outputs": [],
   "source": [
    "content = sio.loadmat('dataset1.mat')"
   ]
  },
  {
   "cell_type": "code",
   "execution_count": 3,
   "metadata": {},
   "outputs": [],
   "source": [
    "X_train = np.array(content['X_trn'])\n",
    "Y_train = np.array(content['Y_trn'])\n",
    "X_test = content['X_tst']\n",
    "Y_test = content['Y_tst']"
   ]
  },
  {
   "cell_type": "code",
   "execution_count": 4,
   "metadata": {},
   "outputs": [],
   "source": [
    "learningRate = 0.00000011 #for n=3 0.00000011\n",
    "#learningRate = 0.00001 #for n = 2 \n",
    "n=3"
   ]
  },
  {
   "cell_type": "code",
   "execution_count": 5,
   "metadata": {},
   "outputs": [
    {
     "name": "stdout",
     "output_type": "stream",
     "text": [
      "[[1.32832778]\n",
      " [0.91395256]\n",
      " [2.37548722]\n",
      " [0.41082418]]\n",
      "36.75147585277456\n"
     ]
    }
   ],
   "source": [
    "X_c = []\n",
    "\n",
    "initial_theta = np.random.rand(n+1,1)\n",
    "for row in range(0,X_train.shape[0]):\n",
    "    new_row = []\n",
    "    x = X_train[row][0]\n",
    "    for i in range(0, n+1):\n",
    "        new_row.append(x**i)\n",
    "    X_c.append(new_row)\n",
    "    \n",
    "X_capTrain = np.array(X_c)\n",
    "jTheta = np.multiply(2,X_capTrain.transpose()).dot(np.subtract(X_capTrain.dot(initial_theta), Y_train))\n",
    "\n",
    "epsilon = 0.000000001\n",
    "for i in range(10000):\n",
    "    nextVal = np.subtract(initial_theta, learningRate*jTheta)\n",
    "    jTheta = 2*X_capTrain.transpose().dot(np.subtract(X_capTrain.dot(nextVal), Y_train))\n",
    "    if(linalg.norm(np.subtract(nextVal, initial_theta))<=epsilon):\n",
    "        print(\"converged\")\n",
    "        initial_theta = nextVal\n",
    "        break\n",
    "    initial_theta=nextVal\n",
    "    #print(initial_theta.shape)\n",
    "    costFunction = np.linalg.norm(np.subtract(X_capTrain.dot(initial_theta), Y_train), 2)**2\n",
    "    #print(nextVal)\n",
    "    #print(costFunction)\n",
    "    \n",
    "print(initial_theta)\n",
    "XTheta = X_capTrain.dot(initial_theta)\n",
    "t = np.subtract(XTheta, Y_train)\n",
    "errorTrain = np.linalg.norm(t,2)**2/Y_train.shape[0]\n",
    "print(errorTrain)"
   ]
  },
  {
   "cell_type": "code",
   "execution_count": 6,
   "metadata": {},
   "outputs": [
    {
     "name": "stdout",
     "output_type": "stream",
     "text": [
      "[[ 1.01419935]\n",
      " [-0.32837596]\n",
      " [ 1.83486591]\n",
      " [ 0.52944642]]\n",
      "72.57673222222411\n"
     ]
    }
   ],
   "source": [
    "X_train=X_test\n",
    "Y_train=Y_test\n",
    "\n",
    "X_c = []\n",
    "\n",
    "initial_theta = np.random.rand(n+1,1)\n",
    "for row in range(0,X_train.shape[0]):\n",
    "    new_row = []\n",
    "    x = X_train[row][0]\n",
    "    for i in range(0, n+1):\n",
    "        new_row.append(x**i)\n",
    "    X_c.append(new_row)\n",
    "    \n",
    "X_capTrain = np.array(X_c)\n",
    "jTheta = np.multiply(2,X_capTrain.transpose()).dot(np.subtract(X_capTrain.dot(initial_theta), Y_train))\n",
    "epsilon = 0.000000001\n",
    "for i in range(10000):\n",
    "    nextVal = np.subtract(initial_theta, learningRate*jTheta)\n",
    "    jTheta = 2*X_capTrain.transpose().dot(np.subtract(X_capTrain.dot(nextVal), Y_train))\n",
    "    if(linalg.norm(np.subtract(nextVal, initial_theta))<=epsilon):\n",
    "        print(\"converged\")\n",
    "        initial_theta = nextVal\n",
    "        break\n",
    "    initial_theta=nextVal\n",
    "    #print(initial_theta.shape)\n",
    "    costFunction = np.linalg.norm(np.subtract(X_capTrain.dot(initial_theta), Y_train), 2)**2\n",
    "    #print(nextVal)\n",
    "    #print(costFunction)\n",
    "    \n",
    "print(initial_theta)\n",
    "XTheta = X_capTrain.dot(initial_theta)\n",
    "t = np.subtract(XTheta, Y_train)\n",
    "errorTrain = np.linalg.norm(t,2)**2/Y_train.shape[0]\n",
    "print(errorTrain)"
   ]
  },
  {
   "cell_type": "code",
   "execution_count": 7,
   "metadata": {},
   "outputs": [],
   "source": [
    "learningRate = 0.00001 \n",
    "n=2"
   ]
  },
  {
   "cell_type": "code",
   "execution_count": 8,
   "metadata": {},
   "outputs": [],
   "source": [
    "X_train = np.array(content['X_trn'])\n",
    "Y_train = np.array(content['Y_trn'])\n",
    "X_test = content['X_tst']\n",
    "Y_test = content['Y_tst']"
   ]
  },
  {
   "cell_type": "code",
   "execution_count": 9,
   "metadata": {},
   "outputs": [
    {
     "name": "stdout",
     "output_type": "stream",
     "text": [
      "[[9.49175381]\n",
      " [4.79191925]\n",
      " [1.52909527]]\n",
      "24.74191967133081\n"
     ]
    }
   ],
   "source": [
    "X_c = []\n",
    "\n",
    "initial_theta = np.random.rand(n+1,1)\n",
    "for row in range(0,X_train.shape[0]):\n",
    "    new_row = []\n",
    "    x = X_train[row][0]\n",
    "    for i in range(0, n+1):\n",
    "        new_row.append(x**i)\n",
    "    X_c.append(new_row)\n",
    "    \n",
    "X_capTrain = np.array(X_c)\n",
    "jTheta = np.multiply(2,X_capTrain.transpose()).dot(np.subtract(X_capTrain.dot(initial_theta), Y_train))\n",
    "\n",
    "epsilon = 0.000000001\n",
    "for i in range(10000):\n",
    "    nextVal = np.subtract(initial_theta, learningRate*jTheta)\n",
    "    jTheta = 2*X_capTrain.transpose().dot(np.subtract(X_capTrain.dot(nextVal), Y_train))\n",
    "    if(linalg.norm(np.subtract(nextVal, initial_theta))<=epsilon):\n",
    "        print(\"converged\")\n",
    "        initial_theta = nextVal\n",
    "        break\n",
    "    initial_theta=nextVal\n",
    "    #print(initial_theta.shape)\n",
    "    costFunction = np.linalg.norm(np.subtract(X_capTrain.dot(initial_theta), Y_train), 2)**2\n",
    "    #print(nextVal)\n",
    "    #print(costFunction)\n",
    "    \n",
    "print(initial_theta)\n",
    "XTheta = X_capTrain.dot(initial_theta)\n",
    "t = np.subtract(XTheta, Y_train)\n",
    "errorTrain = np.linalg.norm(t,2)**2/Y_train.shape[0]\n",
    "print(errorTrain)"
   ]
  },
  {
   "cell_type": "code",
   "execution_count": 10,
   "metadata": {},
   "outputs": [
    {
     "name": "stdout",
     "output_type": "stream",
     "text": [
      "[[31.00410141]\n",
      " [13.13123747]\n",
      " [-0.28773709]]\n",
      "772.2515530798773\n"
     ]
    }
   ],
   "source": [
    "X_train=X_test\n",
    "Y_train=Y_test\n",
    "\n",
    "X_c = []\n",
    "\n",
    "initial_theta = np.random.rand(n+1,1)\n",
    "for row in range(0,X_train.shape[0]):\n",
    "    new_row = []\n",
    "    x = X_train[row][0]\n",
    "    for i in range(0, n+1):\n",
    "        new_row.append(x**i)\n",
    "    X_c.append(new_row)\n",
    "    \n",
    "X_capTrain = np.array(X_c)\n",
    "jTheta = np.multiply(2,X_capTrain.transpose()).dot(np.subtract(X_capTrain.dot(initial_theta), Y_train))\n",
    "epsilon = 0.000000001\n",
    "for i in range(10000):\n",
    "    nextVal = np.subtract(initial_theta, learningRate*jTheta)\n",
    "    jTheta = 2*X_capTrain.transpose().dot(np.subtract(X_capTrain.dot(nextVal), Y_train))\n",
    "    if(linalg.norm(np.subtract(nextVal, initial_theta))<=epsilon):\n",
    "        print(\"converged\")\n",
    "        initial_theta = nextVal\n",
    "        break\n",
    "    initial_theta=nextVal\n",
    "    #print(initial_theta.shape)\n",
    "    costFunction = np.linalg.norm(np.subtract(X_capTrain.dot(initial_theta), Y_train), 2)**2\n",
    "    #print(nextVal)\n",
    "    #print(costFunction)\n",
    "    \n",
    "print(initial_theta)\n",
    "XTheta = X_capTrain.dot(initial_theta)\n",
    "t = np.subtract(XTheta, Y_train)\n",
    "errorTrain = np.linalg.norm(t,2)**2/Y_train.shape[0]\n",
    "print(errorTrain)"
   ]
  },
  {
   "cell_type": "code",
   "execution_count": null,
   "metadata": {},
   "outputs": [],
   "source": []
  },
  {
   "cell_type": "code",
   "execution_count": null,
   "metadata": {},
   "outputs": [],
   "source": []
  }
 ],
 "metadata": {
  "kernelspec": {
   "display_name": "Python 3",
   "language": "python",
   "name": "python3"
  },
  "language_info": {
   "codemirror_mode": {
    "name": "ipython",
    "version": 3
   },
   "file_extension": ".py",
   "mimetype": "text/x-python",
   "name": "python",
   "nbconvert_exporter": "python",
   "pygments_lexer": "ipython3",
   "version": "3.7.0"
  }
 },
 "nbformat": 4,
 "nbformat_minor": 2
}
