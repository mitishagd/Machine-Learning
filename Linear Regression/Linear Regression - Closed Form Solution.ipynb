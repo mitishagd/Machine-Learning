{
 "cells": [
  {
   "cell_type": "code",
   "execution_count": 123,
   "metadata": {},
   "outputs": [],
   "source": [
    "import scipy.io as sio\n",
    "import numpy as np\n",
    "from numpy import linalg\n",
    "from numpy.linalg import inv"
   ]
  },
  {
   "cell_type": "code",
   "execution_count": 124,
   "metadata": {},
   "outputs": [],
   "source": [
    "content = sio.loadmat('dataset1.mat')"
   ]
  },
  {
   "cell_type": "code",
   "execution_count": 125,
   "metadata": {},
   "outputs": [],
   "source": [
    "X_train = np.array(content['X_trn'])\n",
    "Y_train = np.array(content['Y_trn'])\n",
    "X_test = content['X_tst']\n",
    "Y_test = content['Y_tst']"
   ]
  },
  {
   "cell_type": "code",
   "execution_count": 134,
   "metadata": {},
   "outputs": [
    {
     "name": "stdout",
     "output_type": "stream",
     "text": [
      "(120, 3)\n",
      "[[9.49203678]\n",
      " [4.79191663]\n",
      " [1.52906587]]\n",
      "24.741919636329932\n"
     ]
    }
   ],
   "source": [
    "# Calculate the Xcap for training data with n = 2\n",
    "X_c = []\n",
    "\n",
    "for row in range(0,X_train.shape[0]):\n",
    "    new_row = []\n",
    "    x = X_train[row][0]\n",
    "    for i in range(0, 3):\n",
    "        new_row.append(x**i)\n",
    "    X_c.append(new_row)\n",
    "    \n",
    "X_capTrain2 = np.array(X_c)\n",
    "print(X_capTrain2.shape)\n",
    "\n",
    "# Calculate the theta min for training set\n",
    "thetaTrain2 = inv(X_capTrain2.transpose().dot(X_capTrain2)).dot(X_capTrain2.transpose()).dot(Y_train)\n",
    "print(thetaTrain2)\n",
    "XTheta = X_capTrain2.dot(thetaTrain2)\n",
    "t = np.subtract(XTheta, Y_train)\n",
    "errorTrain = np.linalg.norm(t,2)**2/Y_train.shape[0]\n",
    "print(errorTrain)\n"
   ]
  },
  {
   "cell_type": "code",
   "execution_count": 133,
   "metadata": {},
   "outputs": [
    {
     "name": "stdout",
     "output_type": "stream",
     "text": [
      "772.2515425409839\n"
     ]
    }
   ],
   "source": [
    "# Calculate the Xcap for training data with n = 2\n",
    "X_c = []\n",
    "\n",
    "for row in range(0,X_test.shape[0]):\n",
    "    new_row = []\n",
    "    x = X_test[row][0]\n",
    "    for i in range(0, 3):\n",
    "        new_row.append(x**i)\n",
    "    X_c.append(new_row)\n",
    "    \n",
    "X_capTest2 = np.array(X_c)\n",
    "\n",
    "# Calculate the theta min for training set\n",
    "thetaTest2 = inv(X_capTest2.transpose().dot(X_capTest2)).dot(X_capTest2.transpose()).dot(Y_test)\n",
    "\n",
    "XTheta = X_capTest2.dot(thetaTest2)\n",
    "t = np.subtract(XTheta, Y_test)\n",
    "errorTest = np.linalg.norm(t,2)**2/Y_test.shape[0]\n",
    "print(errorTest)"
   ]
  },
  {
   "cell_type": "code",
   "execution_count": 135,
   "metadata": {},
   "outputs": [
    {
     "name": "stdout",
     "output_type": "stream",
     "text": [
      "(120, 4)\n",
      "[[10.00815033]\n",
      " [ 0.20418927]\n",
      " [ 1.47413164]\n",
      " [ 0.47320168]]\n",
      "3.9678631570279146\n"
     ]
    }
   ],
   "source": [
    "# Calculate the Xcap for training data with n = 3\n",
    "X_c = []\n",
    "\n",
    "for row in range(0,X_train.shape[0]):\n",
    "    new_row = []\n",
    "    x = X_train[row][0]\n",
    "    for i in range(0, 4):\n",
    "        new_row.append(x**i)\n",
    "    X_c.append(new_row)\n",
    "    \n",
    "X_capTrain3 = np.array(X_c)\n",
    "print(X_capTrain3.shape)\n",
    "\n",
    "# Calculate the theta min for training set\n",
    "thetaTrain3 = inv(X_capTrain3.transpose().dot(X_capTrain3)).dot(X_capTrain3.transpose()).dot(Y_train)\n",
    "print(thetaTrain3)\n",
    "XTheta = X_capTrain3.dot(thetaTrain3)\n",
    "t3 = np.subtract(XTheta, Y_train)\n",
    "errorTrain3 = np.linalg.norm(t3,2)**2/Y_train.shape[0]\n",
    "print(errorTrain3)"
   ]
  },
  {
   "cell_type": "code",
   "execution_count": 132,
   "metadata": {},
   "outputs": [
    {
     "name": "stdout",
     "output_type": "stream",
     "text": [
      "37.53358641762936\n"
     ]
    }
   ],
   "source": [
    "# Calculate the Xcap for training data with n = 3\n",
    "X_c = []\n",
    "\n",
    "for row in range(0,X_test.shape[0]):\n",
    "    new_row = []\n",
    "    x = X_test[row][0]\n",
    "    for i in range(0, 4):\n",
    "        new_row.append(x**i)\n",
    "    X_c.append(new_row)\n",
    "    \n",
    "X_capTest3 = np.array(X_c)\n",
    "\n",
    "# Calculate the theta min for training set\n",
    "thetaTest3 = inv(X_capTest3.transpose().dot(X_capTest3)).dot(X_capTest3.transpose()).dot(Y_test)\n",
    "\n",
    "XTheta = X_capTest3.dot(thetaTest3)\n",
    "t = np.subtract(XTheta, Y_test)\n",
    "errorTest = np.linalg.norm(t,2)**2/Y_test.shape[0]\n",
    "print(errorTest)"
   ]
  }
 ],
 "metadata": {
  "kernelspec": {
   "display_name": "Python 3",
   "language": "python",
   "name": "python3"
  },
  "language_info": {
   "codemirror_mode": {
    "name": "ipython",
    "version": 3
   },
   "file_extension": ".py",
   "mimetype": "text/x-python",
   "name": "python",
   "nbconvert_exporter": "python",
   "pygments_lexer": "ipython3",
   "version": "3.7.1"
  }
 },
 "nbformat": 4,
 "nbformat_minor": 2
}
