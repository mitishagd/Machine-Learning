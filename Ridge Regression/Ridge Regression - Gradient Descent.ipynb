{
 "cells": [
  {
   "cell_type": "code",
   "execution_count": 110,
   "metadata": {},
   "outputs": [],
   "source": [
    "import scipy.io as sio\n",
    "import numpy as np\n",
    "import pandas as pd\n",
    "import matplotlib\n",
    "from numpy import linalg\n",
    "from numpy.linalg import inv"
   ]
  },
  {
   "cell_type": "code",
   "execution_count": 111,
   "metadata": {},
   "outputs": [],
   "source": [
    "content = sio.loadmat('dataset2.mat')\n",
    "X_train = np.array(content['X_trn'])\n",
    "Y_train = np.array(content['Y_trn'])\n",
    "X_test = content['X_tst']\n",
    "Y_test = content['Y_tst']"
   ]
  },
  {
   "cell_type": "code",
   "execution_count": 112,
   "metadata": {},
   "outputs": [],
   "source": [
    "N = X_train.shape[0]\n",
    "K = [2,5,N]\n",
    "penaltyLambdaList = [0.1, 0.01, 0.001, 0.0001, 0.00001, 0.000001, 0.0000001, 0.00000001, 0.000000001]"
   ]
  },
  {
   "cell_type": "code",
   "execution_count": 113,
   "metadata": {},
   "outputs": [],
   "source": [
    "n = 2\n",
    "k=5"
   ]
  },
  {
   "cell_type": "code",
   "execution_count": 114,
   "metadata": {},
   "outputs": [
    {
     "name": "stdout",
     "output_type": "stream",
     "text": [
      "{0.1: 279.2863869845016, 0.01: 273.84101686396446, 0.001: 269.0175760810064, 0.0001: 263.96993422595654, 1e-05: 258.9936242402451, 1e-06: 254.18261230447456, 1e-07: 249.55634824776016, 1e-08: 245.11503129136116, 1e-09: 240.85425475630683}\n"
     ]
    }
   ],
   "source": [
    "X_c = []\n",
    "\n",
    "initial_theta = np.random.rand(n+1,1)\n",
    "for row in range(0,X_train.shape[0]):\n",
    "    new_row = []\n",
    "    x = X_train[row][0]\n",
    "    for i in range(0, n+1):\n",
    "        new_row.append(x**i)\n",
    "    X_c.append(new_row)\n",
    "    \n",
    "X_capTrain2 = np.array(X_c)\n",
    "\n",
    "\n",
    "holdOut = {}\n",
    "thetaLambda = {}\n",
    "for l in range(0, len(penaltyLambdaList)):\n",
    "    penaltyLambda = penaltyLambdaList[l]\n",
    "    Xchunks = np.array(np.split(X_capTrain2, k))\n",
    "    Ychunks = np.array(np.split(Y_train, k))\n",
    "    thetaMin = {}\n",
    "    holdOutErrors = 0\n",
    "    for i in range(0,len(Xchunks)):\n",
    "        Xtest = Xchunks[i]\n",
    "        Ytest = Ychunks[i]\n",
    "        Xtrain = np.array(np.delete(Xchunks, i, 0))\n",
    "        Xtrain = Xtrain.reshape((k-1*Xtrain.shape[1], Xtrain.shape[2]))\n",
    "        Ytrain = np.array(np.delete(Ychunks, i, 0))\n",
    "        Ytrain = Ytrain.reshape((k-1*Ytrain.shape[1], Ytrain.shape[2]))\n",
    "        lambdaEye = np.multiply(penaltyLambda, np.eye(n+1,n+1))\n",
    "        learningRate = 0.000000005\n",
    "        epsilon = 0.00000001\n",
    "        jThetaHalf1 = Xtrain.transpose().dot(np.subtract(Xtrain.dot(initial_theta), Ytrain))\n",
    "        jThetaHalf2 = np.multiply(penaltyLambda, initial_theta)\n",
    "        jTheta = np.add(jThetaHalf1, jThetaHalf2)\n",
    "        for i in range(1000):\n",
    "            nextVal = np.subtract(initial_theta, learningRate*jTheta)\n",
    "            jThetaHalf1 = Xtrain.transpose().dot(np.subtract(Xtrain.dot(initial_theta), Ytrain))\n",
    "            jThetaHalf2 = np.multiply(penaltyLambda, initial_theta)\n",
    "            jTheta = np.add(jThetaHalf1, jThetaHalf2)\n",
    "            if(linalg.norm(np.subtract(nextVal, initial_theta))<=epsilon):\n",
    "                print(\"done\")\n",
    "                initial_val=nextVal\n",
    "                break\n",
    "            initial_theta=nextVal\n",
    "        thetaMin[i] = initial_theta\n",
    "        holdOutError = linalg.norm(np.subtract(Ytest, np.matmul(Xtest,initial_theta)))\n",
    "        holdOutErrors += holdOutError\n",
    "        #print(holdOutError)\n",
    "    holdOutErrorLambda = holdOutErrors/k\n",
    "    holdOut[penaltyLambda] = holdOutErrorLambda\n",
    "    thetaLambda[penaltyLambda] = thetaMin\n",
    "print(holdOut)"
   ]
  },
  {
   "cell_type": "code",
   "execution_count": 115,
   "metadata": {},
   "outputs": [],
   "source": [
    "lamda, error = min(holdOut.items(), key=lambda x: x[1]) "
   ]
  },
  {
   "cell_type": "code",
   "execution_count": 116,
   "metadata": {},
   "outputs": [
    {
     "data": {
      "text/plain": [
       "1e-09"
      ]
     },
     "execution_count": 116,
     "metadata": {},
     "output_type": "execute_result"
    }
   ],
   "source": [
    "lamda"
   ]
  },
  {
   "cell_type": "code",
   "execution_count": 117,
   "metadata": {},
   "outputs": [
    {
     "name": "stdout",
     "output_type": "stream",
     "text": [
      "Theta\n"
     ]
    },
    {
     "data": {
      "text/plain": [
       "array([[ 1.09561749],\n",
       "       [ 4.18630248],\n",
       "       [-0.22849998]])"
      ]
     },
     "execution_count": 117,
     "metadata": {},
     "output_type": "execute_result"
    }
   ],
   "source": [
    "print(\"Theta\")\n",
    "initial_theta"
   ]
  },
  {
   "cell_type": "code",
   "execution_count": 118,
   "metadata": {},
   "outputs": [],
   "source": [
    "n = 5\n",
    "k = 5"
   ]
  },
  {
   "cell_type": "code",
   "execution_count": 119,
   "metadata": {},
   "outputs": [
    {
     "name": "stdout",
     "output_type": "stream",
     "text": [
      "{0.1: 338.6225794573378, 0.01: 120.11780866786894, 0.001: 116.70419479906582, 0.0001: 113.40180969586709, 1e-05: 110.23345200567712, 1e-06: 107.19484106898469, 1e-07: 104.28174874748781, 1e-08: 101.49006810909637, 1e-09: 98.81580773289853}\n"
     ]
    }
   ],
   "source": [
    "X_c = []\n",
    "\n",
    "initial_theta = np.random.rand(n+1,1)\n",
    "for row in range(0,X_train.shape[0]):\n",
    "    new_row = []\n",
    "    x = X_train[row][0]\n",
    "    for i in range(0, n+1):\n",
    "        new_row.append(x**i)\n",
    "    X_c.append(new_row)\n",
    "    \n",
    "X_capTrain2 = np.array(X_c)\n",
    "\n",
    "holdOut = {}\n",
    "thetaLambda = {}\n",
    "for l in range(0, len(penaltyLambdaList)):\n",
    "    penaltyLambda = penaltyLambdaList[l]\n",
    "    Xchunks = np.array(np.split(X_capTrain2, k))\n",
    "    Ychunks = np.array(np.split(Y_train, k))\n",
    "    thetaMin = {}\n",
    "    holdOutErrors = 0\n",
    "    for i in range(0,len(Xchunks)):\n",
    "        Xtest = Xchunks[i]\n",
    "        Ytest = Ychunks[i]\n",
    "        Xtrain = np.array(np.delete(Xchunks, i, 0))\n",
    "        Xtrain = Xtrain.reshape((k-1*Xtrain.shape[1], Xtrain.shape[2]))\n",
    "        Ytrain = np.array(np.delete(Ychunks, i, 0))\n",
    "        Ytrain = Ytrain.reshape((k-1*Ytrain.shape[1], Ytrain.shape[2]))\n",
    "        lambdaEye = np.multiply(penaltyLambda, np.eye(n+1,n+1))\n",
    "        learningRate = 0.00000000005\n",
    "        epsilon = 0.00000001\n",
    "        jThetaHalf1 = Xtrain.transpose().dot(np.subtract(Xtrain.dot(initial_theta), Ytrain))\n",
    "        jThetaHalf2 = np.multiply(penaltyLambda, initial_theta)\n",
    "        jTheta = np.add(jThetaHalf1, jThetaHalf2)\n",
    "        for i in range(1000):\n",
    "            nextVal = np.subtract(initial_theta, learningRate*jTheta)\n",
    "            jThetaHalf1 = Xtrain.transpose().dot(np.subtract(Xtrain.dot(initial_theta), Ytrain))\n",
    "            jThetaHalf2 = np.multiply(penaltyLambda, initial_theta)\n",
    "            jTheta = np.add(jThetaHalf1, jThetaHalf2)\n",
    "            if(linalg.norm(np.subtract(nextVal, initial_theta))<=epsilon):\n",
    "                print(\"done\")\n",
    "                initial_val=nextVal\n",
    "                break\n",
    "            initial_theta=nextVal\n",
    "        thetaMin[i] = initial_theta\n",
    "        holdOutError = linalg.norm(np.subtract(Ytest, np.matmul(Xtest,initial_theta)))\n",
    "        holdOutErrors += holdOutError\n",
    "        #print(holdOutError)\n",
    "    holdOutErrorLambda = holdOutErrors/k\n",
    "    holdOut[penaltyLambda] = holdOutErrorLambda\n",
    "    thetaLambda[penaltyLambda] = thetaMin\n",
    "print(holdOut)"
   ]
  },
  {
   "cell_type": "code",
   "execution_count": 120,
   "metadata": {},
   "outputs": [],
   "source": [
    "lamda, error = min(holdOut.items(), key=lambda x: x[1]) "
   ]
  },
  {
   "cell_type": "code",
   "execution_count": 121,
   "metadata": {},
   "outputs": [
    {
     "data": {
      "text/plain": [
       "1e-09"
      ]
     },
     "execution_count": 121,
     "metadata": {},
     "output_type": "execute_result"
    }
   ],
   "source": [
    "lamda"
   ]
  },
  {
   "cell_type": "code",
   "execution_count": 122,
   "metadata": {},
   "outputs": [
    {
     "name": "stdout",
     "output_type": "stream",
     "text": [
      "Theta\n"
     ]
    },
    {
     "data": {
      "text/plain": [
       "array([[ 0.63244078],\n",
       "       [ 0.32747986],\n",
       "       [ 0.72080729],\n",
       "       [ 0.74303964],\n",
       "       [ 0.01927515],\n",
       "       [-0.00443613]])"
      ]
     },
     "execution_count": 122,
     "metadata": {},
     "output_type": "execute_result"
    }
   ],
   "source": [
    "print(\"Theta\")\n",
    "initial_theta"
   ]
  },
  {
   "cell_type": "code",
   "execution_count": 123,
   "metadata": {},
   "outputs": [],
   "source": [
    "n = 5\n",
    "k = N"
   ]
  },
  {
   "cell_type": "code",
   "execution_count": 124,
   "metadata": {},
   "outputs": [
    {
     "name": "stdout",
     "output_type": "stream",
     "text": [
      "{0.1: 16.101308066365892, 0.01: 9.976651252468592, 0.001: 9.95673881524269, 0.0001: 9.944819346649362, 1e-05: 9.932293581589683, 1e-06: 9.922078603160992, 1e-07: 9.916297911359399, 1e-08: 9.908443346475256, 1e-09: 9.899001272468494}\n"
     ]
    }
   ],
   "source": [
    "X_c = []\n",
    "\n",
    "initial_theta = np.random.rand(n+1,1)\n",
    "for row in range(0,X_train.shape[0]):\n",
    "    new_row = []\n",
    "    x = X_train[row][0]\n",
    "    for i in range(0, n+1):\n",
    "        new_row.append(x**i)\n",
    "    X_c.append(new_row)\n",
    "    \n",
    "X_capTrain2 = np.array(X_c)\n",
    "\n",
    "holdOut = {}\n",
    "thetaLambda = {}\n",
    "for l in range(0, len(penaltyLambdaList)):\n",
    "    penaltyLambda = penaltyLambdaList[l]\n",
    "    Xchunks = np.array(np.split(X_capTrain2, k))\n",
    "    Ychunks = np.array(np.split(Y_train, k))\n",
    "    thetaMin = {}\n",
    "    holdOutErrors = 0\n",
    "    for i in range(0,len(Xchunks)):\n",
    "        Xtest = Xchunks[i]\n",
    "        Ytest = Ychunks[i]\n",
    "        Xtrain = np.array(np.delete(Xchunks, i, 0))\n",
    "        Xtrain = Xtrain.reshape((k-1*Xtrain.shape[1], Xtrain.shape[2]))\n",
    "        Ytrain = np.array(np.delete(Ychunks, i, 0))\n",
    "        Ytrain = Ytrain.reshape((k-1*Ytrain.shape[1], Ytrain.shape[2]))\n",
    "        lambdaEye = np.multiply(penaltyLambda, np.eye(n+1,n+1))\n",
    "        learningRate = 0.000000000005\n",
    "        epsilon = 0.00000001\n",
    "        jThetaHalf1 = Xtrain.transpose().dot(np.subtract(Xtrain.dot(initial_theta), Ytrain))\n",
    "        jThetaHalf2 = np.multiply(penaltyLambda, initial_theta)\n",
    "        jTheta = np.add(jThetaHalf1, jThetaHalf2)\n",
    "        for i in range(3000):\n",
    "            nextVal = np.subtract(initial_theta, learningRate*jTheta)\n",
    "            jThetaHalf1 = Xtrain.transpose().dot(np.subtract(Xtrain.dot(initial_theta), Ytrain))\n",
    "            jThetaHalf2 = np.multiply(penaltyLambda, initial_theta)\n",
    "            jTheta = np.add(jThetaHalf1, jThetaHalf2)\n",
    "            if(linalg.norm(np.subtract(nextVal, initial_theta))<=0.0000000001):\n",
    "                print(\"done\")\n",
    "                initial_val=nextVal\n",
    "                break\n",
    "            initial_theta=nextVal\n",
    "        thetaMin[i] = initial_theta\n",
    "        holdOutError = linalg.norm(np.subtract(Ytest, np.matmul(Xtest,initial_theta)))\n",
    "        holdOutErrors += holdOutError\n",
    "        #print(holdOutError)\n",
    "    holdOutErrorLambda = holdOutErrors/k\n",
    "    holdOut[penaltyLambda] = holdOutErrorLambda\n",
    "    thetaLambda[penaltyLambda] = thetaMin\n",
    "print(holdOut)"
   ]
  },
  {
   "cell_type": "code",
   "execution_count": 125,
   "metadata": {},
   "outputs": [],
   "source": [
    "lamda, error = min(holdOut.items(), key=lambda x: x[1]) "
   ]
  },
  {
   "cell_type": "code",
   "execution_count": 126,
   "metadata": {},
   "outputs": [
    {
     "data": {
      "text/plain": [
       "1e-09"
      ]
     },
     "execution_count": 126,
     "metadata": {},
     "output_type": "execute_result"
    }
   ],
   "source": [
    "lamda"
   ]
  },
  {
   "cell_type": "code",
   "execution_count": 127,
   "metadata": {},
   "outputs": [
    {
     "name": "stdout",
     "output_type": "stream",
     "text": [
      "Theta\n"
     ]
    },
    {
     "data": {
      "text/plain": [
       "array([[0.99205809],\n",
       "       [0.08397893],\n",
       "       [0.54288499],\n",
       "       [0.28556038],\n",
       "       [0.04189896],\n",
       "       [0.00679087]])"
      ]
     },
     "execution_count": 127,
     "metadata": {},
     "output_type": "execute_result"
    }
   ],
   "source": [
    "print(\"Theta\")\n",
    "initial_theta"
   ]
  },
  {
   "cell_type": "code",
   "execution_count": null,
   "metadata": {},
   "outputs": [],
   "source": []
  }
 ],
 "metadata": {
  "kernelspec": {
   "display_name": "Python 3",
   "language": "python",
   "name": "python3"
  },
  "language_info": {
   "codemirror_mode": {
    "name": "ipython",
    "version": 3
   },
   "file_extension": ".py",
   "mimetype": "text/x-python",
   "name": "python",
   "nbconvert_exporter": "python",
   "pygments_lexer": "ipython3",
   "version": "3.7.0"
  }
 },
 "nbformat": 4,
 "nbformat_minor": 2
}
