{
 "cells": [
  {
   "cell_type": "code",
   "execution_count": 142,
   "metadata": {},
   "outputs": [],
   "source": [
    "import scipy.io as sio\n",
    "import numpy as np\n",
    "import pandas as pd\n",
    "import matplotlib\n",
    "from numpy import linalg\n",
    "from numpy.linalg import inv"
   ]
  },
  {
   "cell_type": "code",
   "execution_count": 143,
   "metadata": {},
   "outputs": [],
   "source": [
    "content = sio.loadmat('dataset2.mat')\n",
    "X_train = np.array(content['X_trn'])\n",
    "Y_train = np.array(content['Y_trn'])\n",
    "X_test = content['X_tst']\n",
    "Y_test = content['Y_tst']"
   ]
  },
  {
   "cell_type": "code",
   "execution_count": 144,
   "metadata": {},
   "outputs": [],
   "source": [
    "N = X_train.shape[0]\n",
    "K = [2,5,N]\n",
    "penaltyLambdaList = [0.1, 0.01, 0.001, 0.0001, 0.00001, 0.000001, 0.0000001, 0.00000001]"
   ]
  },
  {
   "cell_type": "code",
   "execution_count": 145,
   "metadata": {},
   "outputs": [],
   "source": [
    "n = 5\n",
    "k = N"
   ]
  },
  {
   "cell_type": "code",
   "execution_count": 146,
   "metadata": {},
   "outputs": [
    {
     "name": "stdout",
     "output_type": "stream",
     "text": [
      "{0.1: 0.5175044088927568, 0.01: 0.5175110728982584, 0.001: 0.5175122779974501, 0.0001: 0.5175124039485585, 1e-05: 0.5175124165980067, 1e-06: 0.5175124178636381, 1e-07: 0.517512417990043, 1e-08: 0.5175124180028052}\n"
     ]
    }
   ],
   "source": [
    "X_c = []\n",
    "\n",
    "for row in range(0,X_train.shape[0]):\n",
    "    new_row = []\n",
    "    x = X_train[row][0]\n",
    "    for i in range(0, n+1):\n",
    "        new_row.append(x**i)\n",
    "    X_c.append(new_row)\n",
    "    \n",
    "X_capTrain2 = np.array(X_c)\n",
    "\n",
    "holdOut = {}\n",
    "thetaLambda = {}\n",
    "for l in range(0, len(penaltyLambdaList)):\n",
    "    penaltyLambda = penaltyLambdaList[l]\n",
    "    Xchunks = np.array(np.split(X_capTrain2, k))\n",
    "    Ychunks = np.array(np.split(Y_train, k))\n",
    "    thetaMin = {}\n",
    "    holdOutErrors = 0\n",
    "    for i in range(0,len(Xchunks)):\n",
    "        Xtest = Xchunks[i]\n",
    "        Ytest = Ychunks[i]\n",
    "        Xtrain = np.array(np.delete(Xchunks, i, 0))\n",
    "        Xtrain = Xtrain.reshape((k-1*Xtrain.shape[1], Xtrain.shape[2]))\n",
    "        Ytrain = np.array(np.delete(Ychunks, i, 0))\n",
    "        Ytrain = Ytrain.reshape((k-1*Ytrain.shape[1], Ytrain.shape[2]))\n",
    "        lambdaEye = np.multiply(penaltyLambda, np.eye(n+1,n+1))\n",
    "        inverse = inv(np.add(Xtrain.transpose().dot(Xtrain), lambdaEye))\n",
    "        theta = inverse.dot(Xtrain.transpose().dot(Ytrain))\n",
    "        thetaMin[i] = theta\n",
    "        holdOutError = linalg.norm(np.subtract(Ytest, np.matmul(Xtest,theta)))**2/Ytrain.shape[0]\n",
    "        holdOutErrors += holdOutError\n",
    "    holdOutErrorLambda = holdOutErrors/k\n",
    "    holdOut[penaltyLambda] = holdOutErrorLambda\n",
    "    thetaLambda[penaltyLambda] = thetaMin\n",
    "print(holdOut)\n",
    "    "
   ]
  },
  {
   "cell_type": "code",
   "execution_count": 147,
   "metadata": {},
   "outputs": [],
   "source": [
    "lamda, error = min(holdOut.items(), key=lambda x: x[1]) "
   ]
  },
  {
   "cell_type": "code",
   "execution_count": 148,
   "metadata": {},
   "outputs": [
    {
     "data": {
      "text/plain": [
       "0.1"
      ]
     },
     "execution_count": 148,
     "metadata": {},
     "output_type": "execute_result"
    }
   ],
   "source": [
    "lamda"
   ]
  },
  {
   "cell_type": "code",
   "execution_count": 149,
   "metadata": {},
   "outputs": [],
   "source": [
    "lambdaEye = np.multiply(lamda, np.eye(n+1,n+1))\n",
    "inverse = inv(np.add(Xtrain.transpose().dot(Xtrain), lambdaEye))\n",
    "theta = inverse.dot(Xtrain.transpose().dot(Ytrain))"
   ]
  },
  {
   "cell_type": "code",
   "execution_count": 150,
   "metadata": {},
   "outputs": [
    {
     "data": {
      "text/plain": [
       "array([[1.06853796e+01],\n",
       "       [9.75149762e-02],\n",
       "       [1.13745043e+00],\n",
       "       [4.15384861e-01],\n",
       "       [9.01352186e-03],\n",
       "       [1.98963364e-03]])"
      ]
     },
     "execution_count": 150,
     "metadata": {},
     "output_type": "execute_result"
    }
   ],
   "source": [
    "theta"
   ]
  },
  {
   "cell_type": "code",
   "execution_count": 151,
   "metadata": {},
   "outputs": [],
   "source": [
    "n = 5\n",
    "k = 2"
   ]
  },
  {
   "cell_type": "code",
   "execution_count": 152,
   "metadata": {},
   "outputs": [
    {
     "name": "stdout",
     "output_type": "stream",
     "text": [
      "{0.1: 8672.408923094245, 0.01: 49053.61396100764, 0.001: 73766.60254877037, 0.0001: 77328.5333043453, 1e-05: 77699.92085293075, 1e-06: 77737.24222367448, 1e-07: 77740.76898389193, 1e-08: 77743.16477101977}\n"
     ]
    }
   ],
   "source": [
    "X_train = X_test\n",
    "Y_train = Y_test\n",
    "\n",
    "X_c = []\n",
    "\n",
    "for row in range(0,X_train.shape[0]):\n",
    "    new_row = []\n",
    "    x = X_train[row][0]\n",
    "    for i in range(0, n+1):\n",
    "        new_row.append(x**i)\n",
    "    X_c.append(new_row)\n",
    "    \n",
    "X_capTrain2 = np.array(X_c)\n",
    "\n",
    "holdOut = {}\n",
    "thetaLambda = {}\n",
    "for l in range(0, len(penaltyLambdaList)):\n",
    "    penaltyLambda = penaltyLambdaList[l]\n",
    "    Xchunks = np.array(np.split(X_capTrain2, k))\n",
    "    Ychunks = np.array(np.split(Y_train, k))\n",
    "    thetaMin = {}\n",
    "    holdOutErrors = 0\n",
    "    for i in range(0,len(Xchunks)):\n",
    "        Xtest = Xchunks[i]\n",
    "        Ytest = Ychunks[i]\n",
    "        Xtrain = np.array(np.delete(Xchunks, i, 0))\n",
    "        Xtrain = Xtrain.reshape((k-1*Xtrain.shape[1], Xtrain.shape[2]))\n",
    "        Ytrain = np.array(np.delete(Ychunks, i, 0))\n",
    "        Ytrain = Ytrain.reshape((k-1*Ytrain.shape[1], Ytrain.shape[2]))\n",
    "        lambdaEye = np.multiply(penaltyLambda, np.eye(n+1,n+1))\n",
    "        inverse = inv(np.add(Xtrain.transpose().dot(Xtrain), lambdaEye))\n",
    "        theta = inverse.dot(Xtrain.transpose().dot(Ytrain))\n",
    "        thetaMin[i] = theta\n",
    "        holdOutError = linalg.norm(np.subtract(Ytest, np.matmul(Xtest,theta)))**2/Ytrain.shape[0]\n",
    "        holdOutErrors += holdOutError\n",
    "        #print(holdOutError)\n",
    "    holdOutErrorLambda = holdOutErrors/k\n",
    "    holdOut[penaltyLambda] = holdOutErrorLambda\n",
    "    thetaLambda[penaltyLambda] = thetaMin\n",
    "print(holdOut)\n",
    "    "
   ]
  },
  {
   "cell_type": "code",
   "execution_count": 153,
   "metadata": {},
   "outputs": [],
   "source": [
    "lamda, error = min(holdOut.items(), key=lambda x: x[1])"
   ]
  },
  {
   "cell_type": "code",
   "execution_count": 154,
   "metadata": {},
   "outputs": [
    {
     "data": {
      "text/plain": [
       "(0.1, 8672.408923094245)"
      ]
     },
     "execution_count": 154,
     "metadata": {},
     "output_type": "execute_result"
    }
   ],
   "source": [
    "lamda, error"
   ]
  },
  {
   "cell_type": "code",
   "execution_count": 155,
   "metadata": {},
   "outputs": [],
   "source": [
    "lambdaEye = np.multiply(lamda, np.eye(n+1,n+1))\n",
    "inverse = inv(np.add(Xtrain.transpose().dot(Xtrain), lambdaEye))\n",
    "theta = inverse.dot(Xtrain.transpose().dot(Ytrain))"
   ]
  },
  {
   "cell_type": "code",
   "execution_count": 156,
   "metadata": {},
   "outputs": [
    {
     "data": {
      "text/plain": [
       "array([[-0.68117526],\n",
       "       [-1.1124363 ],\n",
       "       [-2.58168792],\n",
       "       [ 1.55066237],\n",
       "       [ 0.46114235],\n",
       "       [-0.0963597 ]])"
      ]
     },
     "execution_count": 156,
     "metadata": {},
     "output_type": "execute_result"
    }
   ],
   "source": [
    "theta"
   ]
  },
  {
   "cell_type": "code",
   "execution_count": null,
   "metadata": {},
   "outputs": [],
   "source": []
  }
 ],
 "metadata": {
  "kernelspec": {
   "display_name": "Python 3",
   "language": "python",
   "name": "python3"
  },
  "language_info": {
   "codemirror_mode": {
    "name": "ipython",
    "version": 3
   },
   "file_extension": ".py",
   "mimetype": "text/x-python",
   "name": "python",
   "nbconvert_exporter": "python",
   "pygments_lexer": "ipython3",
   "version": "3.7.0"
  }
 },
 "nbformat": 4,
 "nbformat_minor": 2
}
