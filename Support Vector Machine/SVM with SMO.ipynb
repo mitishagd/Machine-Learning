{
 "cells": [
  {
   "cell_type": "code",
   "execution_count": 1,
   "metadata": {},
   "outputs": [],
   "source": [
    "import scipy.io as sio\n",
    "import numpy as np\n",
    "import sys\n",
    "import random \n",
    "from sklearn.metrics import accuracy_score"
   ]
  },
  {
   "cell_type": "code",
   "execution_count": 2,
   "metadata": {},
   "outputs": [],
   "source": [
    "content = sio.loadmat('dataset1.mat')"
   ]
  },
  {
   "cell_type": "code",
   "execution_count": 3,
   "metadata": {},
   "outputs": [],
   "source": [
    "X_train = np.array(content['X_trn'])\n",
    "Y_train = np.array(content['Y_trn'])\n",
    "X_test = content['X_tst']\n",
    "Y_test = content['Y_tst']"
   ]
  },
  {
   "cell_type": "code",
   "execution_count": 4,
   "metadata": {},
   "outputs": [],
   "source": [
    "C = 2\n",
    "tol = 10**-4\n",
    "max_passes = 150\n",
    "m = X_train.shape[0]\n",
    "alpha = np.zeros(m)\n",
    "b = 0\n",
    "passes = 0\n",
    "E = [0] * m\n",
    "alpha_old = alpha"
   ]
  },
  {
   "cell_type": "code",
   "execution_count": 5,
   "metadata": {},
   "outputs": [],
   "source": [
    "def innerProduct(a, b):\n",
    "    return a.dot(b)"
   ]
  },
  {
   "cell_type": "code",
   "execution_count": 6,
   "metadata": {},
   "outputs": [],
   "source": [
    "def f(X):\n",
    "    return sum([alpha[i]*Y_train[i]*innerProduct(X_train[i,:], X) for i in range(m)]) + b"
   ]
  },
  {
   "cell_type": "code",
   "execution_count": 7,
   "metadata": {},
   "outputs": [],
   "source": [
    "for i in range(0, len(Y_train)):\n",
    "    if Y_train[i] == 0:\n",
    "        Y_train[i] = -1"
   ]
  },
  {
   "cell_type": "code",
   "execution_count": 8,
   "metadata": {},
   "outputs": [],
   "source": [
    "while(passes < max_passes):\n",
    "    num_changed_alphas = 0\n",
    "    for i in range(0, m):\n",
    "        E[i] = f(X_train[i, :]) - Y_train[i]\n",
    "        if ((Y_train[i] * E[i] < -tol and alpha[i] < C) or (Y_train[i]*E[i] > tol and alpha[i] > 0)):\n",
    "            numbers = list(range(0,i)) + list(range(i+1,m))\n",
    "            j = random.choice(numbers)\n",
    "            E[j] = f(X_train[j, :]) - Y_train[j]\n",
    "            alpha_old[i] = alpha[i]\n",
    "            alpha_old[j] = alpha[j]\n",
    "            if Y_train[i] != Y_train[j]:\n",
    "                L = max(0, alpha[j] - alpha[i])\n",
    "                H = min(C, C + alpha[j] - alpha[i])\n",
    "            if Y_train[i] == Y_train[j]:\n",
    "                L = max(0, alpha[i] + alpha[j] - C)\n",
    "                H = min (C, alpha[i] + alpha[j])\n",
    "            if L == H:\n",
    "                continue\n",
    "            eta = 2 * innerProduct(X_train[i, :], X_train[j, :]) - innerProduct(X_train[i, :], X_train[i, :]) - innerProduct(X_train[j, :], X_train[j, :])\n",
    "            if eta >= 0:\n",
    "                continue\n",
    "            alpha[j] = alpha[j] - ((Y_train[j] * (E[i] - E[j])) / eta)\n",
    "            if alpha[j] > H:\n",
    "                alpha[j] = H\n",
    "            elif alpha[j] < L:\n",
    "                alpha[j] = L\n",
    "            elif alpha[j] >= L and alpha[j] <= H:\n",
    "                alpha[j] = alpha[j]\n",
    "            if (abs(alpha[j] - alpha_old[j]) < 10**-5):\n",
    "                continue\n",
    "            alpha[i] = alpha[i] + Y_train[i] * Y_train[j] * (alpha_old[j] - alpha[j])\n",
    "            b1 = b - E[i] - Y_train[i] * (alpha[i] - alpha_old[i]) * innerProduct(X_train[i, :], X_train[i, :]) - Y_train[j] * (alpha[j] - alpha_old[j]) * innerProduct(X_train[i, :], X_train[j, :])\n",
    "            b2 = b - E[j] - Y_train[i] * (alpha[i] - alpha_old[i]) * innerProduct(X_train[i, :], X_train[j, :]) - Y_train[j] * (alpha[j] - alpha_old[j]) * innerProduct(X_train[j, :], X_train[j, :])\n",
    "            if alpha[i] > 0 and alpha[i] < C:\n",
    "                b = b1\n",
    "            elif alpha[j] > 0 and alpha[j] < C:\n",
    "                b = b2\n",
    "            else:\n",
    "                b = (b1 + b2) / 2\n",
    "            num_changed_alphas += 1\n",
    "    if (num_changed_alphas == 0):\n",
    "        passes += 1\n",
    "    else:\n",
    "        passes = 0"
   ]
  },
  {
   "cell_type": "code",
   "execution_count": 9,
   "metadata": {},
   "outputs": [
    {
     "data": {
      "text/plain": [
       "[array([ True]),\n",
       " array([ True]),\n",
       " array([ True]),\n",
       " array([ True]),\n",
       " array([ True]),\n",
       " array([ True]),\n",
       " array([ True]),\n",
       " array([False]),\n",
       " array([False]),\n",
       " array([False]),\n",
       " array([False]),\n",
       " array([False]),\n",
       " array([False]),\n",
       " array([False])]"
      ]
     },
     "execution_count": 9,
     "metadata": {},
     "output_type": "execute_result"
    }
   ],
   "source": [
    "predictions = []\n",
    "for i in range(X_test.shape[0]):\n",
    "    predictions.append(f(X_test[i,:]) > 0)\n",
    "predictions"
   ]
  },
  {
   "cell_type": "code",
   "execution_count": 10,
   "metadata": {},
   "outputs": [
    {
     "data": {
      "text/plain": [
       "array([[0],\n",
       "       [0],\n",
       "       [0],\n",
       "       [0],\n",
       "       [0],\n",
       "       [0],\n",
       "       [0],\n",
       "       [1],\n",
       "       [1],\n",
       "       [1],\n",
       "       [1],\n",
       "       [1],\n",
       "       [1],\n",
       "       [1]], dtype=uint8)"
      ]
     },
     "execution_count": 10,
     "metadata": {},
     "output_type": "execute_result"
    }
   ],
   "source": [
    "Y_test"
   ]
  },
  {
   "cell_type": "markdown",
   "metadata": {},
   "source": [
    "### Classification Error on test data"
   ]
  },
  {
   "cell_type": "code",
   "execution_count": 11,
   "metadata": {},
   "outputs": [],
   "source": [
    "normalized_predictions = []\n",
    "\n",
    "\n",
    "for prediction in predictions:\n",
    "    if prediction[0]:\n",
    "        normalized_predictions.append(0)\n",
    "    else:\n",
    "        normalized_predictions.append(1)"
   ]
  },
  {
   "cell_type": "code",
   "execution_count": 12,
   "metadata": {},
   "outputs": [
    {
     "data": {
      "text/plain": [
       "[0, 0, 0, 0, 0, 0, 0, 1, 1, 1, 1, 1, 1, 1]"
      ]
     },
     "execution_count": 12,
     "metadata": {},
     "output_type": "execute_result"
    }
   ],
   "source": [
    "normalized_predictions"
   ]
  },
  {
   "cell_type": "code",
   "execution_count": 13,
   "metadata": {},
   "outputs": [
    {
     "data": {
      "text/plain": [
       "100.0"
      ]
     },
     "execution_count": 13,
     "metadata": {},
     "output_type": "execute_result"
    }
   ],
   "source": [
    "my_accuracy = accuracy_score(Y_test, normalized_predictions) * 100\n",
    "\n",
    "my_accuracy"
   ]
  },
  {
   "cell_type": "markdown",
   "metadata": {},
   "source": [
    "From the accuracy score, we can observe that there is no error. "
   ]
  },
  {
   "cell_type": "markdown",
   "metadata": {},
   "source": [
    "## Classification Error on training data"
   ]
  },
  {
   "cell_type": "code",
   "execution_count": 14,
   "metadata": {},
   "outputs": [
    {
     "data": {
      "text/plain": [
       "[array([ True]),\n",
       " array([ True]),\n",
       " array([ True]),\n",
       " array([ True]),\n",
       " array([ True]),\n",
       " array([ True]),\n",
       " array([ True]),\n",
       " array([ True]),\n",
       " array([ True]),\n",
       " array([ True]),\n",
       " array([ True]),\n",
       " array([ True]),\n",
       " array([ True]),\n",
       " array([ True]),\n",
       " array([ True]),\n",
       " array([ True]),\n",
       " array([ True]),\n",
       " array([ True]),\n",
       " array([ True]),\n",
       " array([ True]),\n",
       " array([ True]),\n",
       " array([ True]),\n",
       " array([ True]),\n",
       " array([ True]),\n",
       " array([ True]),\n",
       " array([ True]),\n",
       " array([ True]),\n",
       " array([ True]),\n",
       " array([ True]),\n",
       " array([ True]),\n",
       " array([ True]),\n",
       " array([ True]),\n",
       " array([ True]),\n",
       " array([ True]),\n",
       " array([ True]),\n",
       " array([ True]),\n",
       " array([ True]),\n",
       " array([ True]),\n",
       " array([ True]),\n",
       " array([ True]),\n",
       " array([ True]),\n",
       " array([ True]),\n",
       " array([ True]),\n",
       " array([ True]),\n",
       " array([ True]),\n",
       " array([ True]),\n",
       " array([ True]),\n",
       " array([ True]),\n",
       " array([ True]),\n",
       " array([ True]),\n",
       " array([ True]),\n",
       " array([ True]),\n",
       " array([ True]),\n",
       " array([ True]),\n",
       " array([ True]),\n",
       " array([ True]),\n",
       " array([ True]),\n",
       " array([ True]),\n",
       " array([ True]),\n",
       " array([ True]),\n",
       " array([ True]),\n",
       " array([ True]),\n",
       " array([ True]),\n",
       " array([ True]),\n",
       " array([ True]),\n",
       " array([ True]),\n",
       " array([ True]),\n",
       " array([ True]),\n",
       " array([False]),\n",
       " array([ True]),\n",
       " array([False]),\n",
       " array([False]),\n",
       " array([False]),\n",
       " array([False]),\n",
       " array([False]),\n",
       " array([False]),\n",
       " array([False]),\n",
       " array([False]),\n",
       " array([False]),\n",
       " array([False]),\n",
       " array([False]),\n",
       " array([False]),\n",
       " array([False]),\n",
       " array([ True]),\n",
       " array([False]),\n",
       " array([False]),\n",
       " array([False]),\n",
       " array([ True]),\n",
       " array([False]),\n",
       " array([False]),\n",
       " array([False]),\n",
       " array([False]),\n",
       " array([False]),\n",
       " array([False]),\n",
       " array([False]),\n",
       " array([False]),\n",
       " array([False]),\n",
       " array([False]),\n",
       " array([ True]),\n",
       " array([False]),\n",
       " array([False]),\n",
       " array([False]),\n",
       " array([False]),\n",
       " array([False]),\n",
       " array([False]),\n",
       " array([False]),\n",
       " array([False]),\n",
       " array([ True]),\n",
       " array([False]),\n",
       " array([ True]),\n",
       " array([False]),\n",
       " array([False]),\n",
       " array([False]),\n",
       " array([False]),\n",
       " array([False]),\n",
       " array([False]),\n",
       " array([False]),\n",
       " array([False]),\n",
       " array([False]),\n",
       " array([False]),\n",
       " array([False]),\n",
       " array([False]),\n",
       " array([False]),\n",
       " array([False]),\n",
       " array([False]),\n",
       " array([False]),\n",
       " array([False]),\n",
       " array([ True]),\n",
       " array([False]),\n",
       " array([False]),\n",
       " array([False]),\n",
       " array([False]),\n",
       " array([False]),\n",
       " array([False]),\n",
       " array([False]),\n",
       " array([ True])]"
      ]
     },
     "execution_count": 14,
     "metadata": {},
     "output_type": "execute_result"
    }
   ],
   "source": [
    "predictions_train = []\n",
    "for i in range(X_train.shape[0]):\n",
    "    predictions_train.append(f(X_train[i,:]) > 0)\n",
    "predictions_train"
   ]
  },
  {
   "cell_type": "code",
   "execution_count": 15,
   "metadata": {},
   "outputs": [],
   "source": [
    "normalized_predictions_train = []\n",
    "\n",
    "\n",
    "for prediction in predictions_train:\n",
    "    if prediction[0]:\n",
    "        normalized_predictions_train.append(255)\n",
    "    else:\n",
    "        normalized_predictions_train.append(1)"
   ]
  },
  {
   "cell_type": "code",
   "execution_count": 16,
   "metadata": {},
   "outputs": [
    {
     "data": {
      "text/plain": [
       "94.11764705882352"
      ]
     },
     "execution_count": 16,
     "metadata": {},
     "output_type": "execute_result"
    }
   ],
   "source": [
    "my_accuracy = accuracy_score(Y_train, normalized_predictions_train) * 100\n",
    "\n",
    "my_accuracy"
   ]
  },
  {
   "cell_type": "markdown",
   "metadata": {},
   "source": [
    "From the accuracy score calculated above, we can observe that there is very less classification error"
   ]
  },
  {
   "cell_type": "markdown",
   "metadata": {},
   "source": [
    "The C parameter tells us how much we want to avoid misclassifying training data. For larger values of C, the SVM will choose a smaller-margin hyperplane if that hyperplane does a better job of getting all the training points classified correctly. Very small values of C will create a hyperplane with large margin, even if there are more points misclassified. "
   ]
  }
 ],
 "metadata": {
  "kernelspec": {
   "display_name": "Python 3",
   "language": "python",
   "name": "python3"
  },
  "language_info": {
   "codemirror_mode": {
    "name": "ipython",
    "version": 3
   },
   "file_extension": ".py",
   "mimetype": "text/x-python",
   "name": "python",
   "nbconvert_exporter": "python",
   "pygments_lexer": "ipython3",
   "version": "3.7.1"
  }
 },
 "nbformat": 4,
 "nbformat_minor": 2
}
